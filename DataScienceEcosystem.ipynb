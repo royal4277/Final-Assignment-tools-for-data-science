{
 "cells": [
  {
   "cell_type": "markdown",
   "id": "f94f1669-339b-4764-8fed-39c04d098836",
   "metadata": {},
   "source": [
    "# Data Science Tools and Ecosystem"
   ]
  },
  {
   "cell_type": "markdown",
   "id": "91736546-ec5e-4baa-bc33-1fa941a365a9",
   "metadata": {},
   "source": [
    "In this notebook, Data Science Tools and Ecosystem are summarized"
   ]
  },
  {
   "cell_type": "markdown",
   "id": "db58cc0f-395a-434e-8a50-f874b34fd786",
   "metadata": {},
   "source": [
    "**Objectives:**\r\n",
    "\r\n",
    "- List popular languages for Data Science.\r\n",
    "- Introduce common open-source development environments for Data Science.\r\n",
    "- Provide examples of evaluating arithmetic expressions in Python.\r\n",
    "- Explore fundamental concepts in Data Science.\r\n",
    "- Demonstrate basic coding practices in Python for Data Science tasks.Scala"
   ]
  },
  {
   "cell_type": "markdown",
   "id": "04184ccb-e92c-4f29-9131-3ff7366681aa",
   "metadata": {},
   "source": [
    "Some of the popular languages that Data Scientists use are:\n",
    "1. Python\n",
    "2. R\n",
    "3. SQL\n",
    "4. Julia\n",
    "5. Scala"
   ]
  },
  {
   "cell_type": "markdown",
   "id": "38e36710-2d7c-4556-87bb-d4ae362cfb3d",
   "metadata": {},
   "source": [
    "Some of the commonly used libraries used by Data Scientists include:\n",
    "1. NumPy\n",
    "2. SciPy\n",
    "3. Pandas\n",
    "4. Matplotlib\n",
    "5. Keras\n",
    "6. SciKit-Learn\n",
    "7. PyTorch\n",
    "8. TensorFlow."
   ]
  },
  {
   "cell_type": "markdown",
   "id": "b9dc3154-7d83-4282-86da-7ab9f1090b32",
   "metadata": {},
   "source": [
    "| Data Science Tools     |\r\n",
    "|------------------------|\r\n",
    "| Jupyter Notebook       |\r\n",
    "| RStudio                |\r\n",
    "| Spyder                 |   |"
   ]
  },
  {
   "cell_type": "markdown",
   "id": "2fec307a-8946-48e4-9c68-0d82ec8ed8b4",
   "metadata": {},
   "source": [
    "### Below are a few examples of evaluating arithmetic expressions in Python.\n"
   ]
  },
  {
   "cell_type": "code",
   "execution_count": 8,
   "id": "cf649237-964e-4695-93ac-6d4a08fac2bf",
   "metadata": {},
   "outputs": [
    {
     "name": "stdout",
     "output_type": "stream",
     "text": [
      "17\n"
     ]
    }
   ],
   "source": [
    "# This is a simple arithmetic expression to multiply then add integers.\n",
    "result = (3 * 4) + 5\n",
    "print(result)"
   ]
  },
  {
   "cell_type": "code",
   "execution_count": 7,
   "id": "763c5a63-81af-47f7-aab0-1a5f0446ef1a",
   "metadata": {},
   "outputs": [
    {
     "name": "stdin",
     "output_type": "stream",
     "text": [
      "enter min 200\n"
     ]
    },
    {
     "name": "stdout",
     "output_type": "stream",
     "text": [
      "3.3333333333333335\n"
     ]
    }
   ],
   "source": [
    "#This will convert 200 minutes to hours by diving by 60\n",
    "min=float(input(\"enter min\"))\n",
    "hours=float(min/60)\n",
    "print(hours)"
   ]
  },
  {
   "cell_type": "markdown",
   "id": "583db6d9-8d65-44af-87ea-afec2f2fe72b",
   "metadata": {},
   "source": [
    "## Author\n",
    "\n",
    "Your Name Amaan Abbas\n"
   ]
  },
  {
   "cell_type": "code",
   "execution_count": null,
   "id": "21363630-4da4-4dcd-ad8d-e806eb0bef3d",
   "metadata": {},
   "outputs": [],
   "source": []
  }
 ],
 "metadata": {
  "kernelspec": {
   "display_name": "Python 3 (ipykernel)",
   "language": "python",
   "name": "python3"
  },
  "language_info": {
   "codemirror_mode": {
    "name": "ipython",
    "version": 3
   },
   "file_extension": ".py",
   "mimetype": "text/x-python",
   "name": "python",
   "nbconvert_exporter": "python",
   "pygments_lexer": "ipython3",
   "version": "3.11.5"
  }
 },
 "nbformat": 4,
 "nbformat_minor": 5
}
